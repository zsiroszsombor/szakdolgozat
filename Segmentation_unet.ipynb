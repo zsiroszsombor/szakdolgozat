{
 "cells": [
  {
   "cell_type": "code",
   "execution_count": 10,
   "metadata": {},
   "outputs": [
    {
     "ename": "NameError",
     "evalue": "name 'list_slides' is not defined",
     "output_type": "error",
     "traceback": [
      "\u001b[1;31m---------------------------------------------------------------------------\u001b[0m",
      "\u001b[1;31mNameError\u001b[0m                                 Traceback (most recent call last)",
      "Cell \u001b[1;32mIn[10], line 6\u001b[0m\n\u001b[0;32m      3\u001b[0m \u001b[38;5;28;01mfrom\u001b[39;00m \u001b[38;5;21;01mWSI\u001b[39;00m\u001b[38;5;21;01m.\u001b[39;00m\u001b[38;5;21;01mfilters\u001b[39;00m \u001b[38;5;28;01mimport\u001b[39;00m \u001b[38;5;241m*\u001b[39m\n\u001b[0;32m      5\u001b[0m \u001b[38;5;66;03m# if, for instance, CMU-1.svs is in your current directory:\u001b[39;00m\n\u001b[1;32m----> 6\u001b[0m all_slides \u001b[38;5;241m=\u001b[39m \u001b[43mlist_slides\u001b[49m(\u001b[38;5;124m\"\u001b[39m\u001b[38;5;124m.\u001b[39m\u001b[38;5;124m\"\u001b[39m)\n\u001b[0;32m      8\u001b[0m save_slides_mpp_otsu(all_slides, \u001b[38;5;124m\"\u001b[39m\u001b[38;5;124mslides_mpp_otsu.csv\u001b[39m\u001b[38;5;124m\"\u001b[39m)\n\u001b[0;32m     10\u001b[0m \u001b[38;5;66;03m# this may take some minutes, depending on your local machine\u001b[39;00m\n",
      "\u001b[1;31mNameError\u001b[0m: name 'list_slides' is not defined"
     ]
    }
   ],
   "source": [
    "%pip install imagecodecs\n",
    "%pip install numpy\n",
    "%pip install matplotlib\n",
    "%pip install csbdeep\n",
    "%pip install pandas\n",
    "%pip install seaborn\n",
    "%pip install tensorflow\n",
    "%pip install keras"
   ]
  },
  {
   "cell_type": "code",
   "execution_count": 8,
   "metadata": {},
   "outputs": [],
   "source": [
    "import numpy as np\n",
    "import matplotlib.pyplot as plt\n",
    "%matplotlib inline\n",
    "%config InlineBackend.figure_format = \"retina\"\n",
    "\n",
    "from tifffile import imread, imsave\n",
    "from csbdeep.utils import Path, normalize\n",
    "from csbdeep.utils.tf import keras_import\n",
    "keras = keras_import()\n",
    "\n",
    "from stardist import export_imagej_rois, random_label_cmap\n",
    "from stardist.models import StarDist2D\n",
    "\n",
    "np.random.seed(0)\n",
    "cmap = random_label_cmap()\n"
   ]
  },
  {
   "cell_type": "code",
   "execution_count": null,
   "metadata": {},
   "outputs": [],
   "source": [
    "def show_image(img, **kwargs):\n",
    "    fig, ax = plt.subplots(2,4, figsize=(16,8))\n",
    "    mid = [s//2+600 for s in img.shape[:2]]\n",
    "    for a,t,u in zip(ax.ravel(),[1,2,4,8,16,32,64,128],[16,8,4,2,1,1,1,1]):\n",
    "        sl = tuple(slice(c-s//t//2, c+s//t//2, u) for s,c in zip(img.shape[:2], mid))\n",
    "        a.imshow(img[sl], **kwargs)\n",
    "        a.axis('off')\n",
    "    plt.tight_layout()\n",
    "    plt.show()"
   ]
  }
 ],
 "metadata": {
  "kernelspec": {
   "display_name": "Python 3",
   "language": "python",
   "name": "python3"
  },
  "language_info": {
   "codemirror_mode": {
    "name": "ipython",
    "version": 3
   },
   "file_extension": ".py",
   "mimetype": "text/x-python",
   "name": "python",
   "nbconvert_exporter": "python",
   "pygments_lexer": "ipython3",
   "version": "3.10.11"
  }
 },
 "nbformat": 4,
 "nbformat_minor": 2
}
