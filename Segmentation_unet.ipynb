{
 "cells": [
  {
   "cell_type": "code",
   "execution_count": 10,
   "metadata": {},
   "outputs": [
    {
     "ename": "NameError",
     "evalue": "name 'list_slides' is not defined",
     "output_type": "error",
     "traceback": [
      "\u001b[1;31m---------------------------------------------------------------------------\u001b[0m",
      "\u001b[1;31mNameError\u001b[0m                                 Traceback (most recent call last)",
      "Cell \u001b[1;32mIn[10], line 6\u001b[0m\n\u001b[0;32m      3\u001b[0m \u001b[38;5;28;01mfrom\u001b[39;00m \u001b[38;5;21;01mWSI\u001b[39;00m\u001b[38;5;21;01m.\u001b[39;00m\u001b[38;5;21;01mfilters\u001b[39;00m \u001b[38;5;28;01mimport\u001b[39;00m \u001b[38;5;241m*\u001b[39m\n\u001b[0;32m      5\u001b[0m \u001b[38;5;66;03m# if, for instance, CMU-1.svs is in your current directory:\u001b[39;00m\n\u001b[1;32m----> 6\u001b[0m all_slides \u001b[38;5;241m=\u001b[39m \u001b[43mlist_slides\u001b[49m(\u001b[38;5;124m\"\u001b[39m\u001b[38;5;124m.\u001b[39m\u001b[38;5;124m\"\u001b[39m)\n\u001b[0;32m      8\u001b[0m save_slides_mpp_otsu(all_slides, \u001b[38;5;124m\"\u001b[39m\u001b[38;5;124mslides_mpp_otsu.csv\u001b[39m\u001b[38;5;124m\"\u001b[39m)\n\u001b[0;32m     10\u001b[0m \u001b[38;5;66;03m# this may take some minutes, depending on your local machine\u001b[39;00m\n",
      "\u001b[1;31mNameError\u001b[0m: name 'list_slides' is not defined"
     ]
    }
   ],
   "source": [
    "import openslide\n",
    "\n",
    "slide = openslide.open_slide(r\"C:\\Users\\Zsombi\\Downloads\\PKG - Biobank_CMB-CRC_v3\\CMB-CRC\\MSB-00241-01-05.svs\")\n",
    "\n",
    "slide.get_thumbnail()"
   ]
  },
  {
   "cell_type": "code",
   "execution_count": 8,
   "metadata": {},
   "outputs": [],
   "source": [
    "import os\n",
    "vipsbin = r'c:\\vips-dev-8.15\\bin'\n",
    "add_dll_dir = getattr(os, 'add_dll_directory', None)\n",
    "if callable(add_dll_dir):\n",
    "    add_dll_dir(vipsbin)\n",
    "else:\n",
    "    os.environ['PATH'] = os.pathsep.join((vipsbin, os.environ['PATH']))"
   ]
  }
 ],
 "metadata": {
  "kernelspec": {
   "display_name": "Python 3",
   "language": "python",
   "name": "python3"
  },
  "language_info": {
   "codemirror_mode": {
    "name": "ipython",
    "version": 3
   },
   "file_extension": ".py",
   "mimetype": "text/x-python",
   "name": "python",
   "nbconvert_exporter": "python",
   "pygments_lexer": "ipython3",
   "version": "3.8.10"
  }
 },
 "nbformat": 4,
 "nbformat_minor": 2
}
