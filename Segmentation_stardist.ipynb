{
 "cells": [
  {
   "cell_type": "code",
   "execution_count": 3,
   "metadata": {},
   "outputs": [
    {
     "name": "stdout",
     "output_type": "stream",
     "text": [
      "Collecting stardistNote: you may need to restart the kernel to use updated packages.\n"
     ]
    },
    {
     "name": "stderr",
     "output_type": "stream",
     "text": [
      "\n",
      "[notice] A new release of pip is available: 23.0.1 -> 24.0\n",
      "[notice] To update, run: C:\\Users\\Zsombi\\AppData\\Local\\Microsoft\\WindowsApps\\PythonSoftwareFoundation.Python.3.10_qbz5n2kfra8p0\\python.exe -m pip install --upgrade pip\n"
     ]
    },
    {
     "name": "stdout",
     "output_type": "stream",
     "text": [
      "\n",
      "  Downloading stardist-0.8.5-cp310-cp310-win_amd64.whl (807 kB)\n",
      "     ---------------------------------------- 0.0/807.4 kB ? eta -:--:--\n",
      "     ---------------------- -------------- 481.3/807.4 kB 10.0 MB/s eta 0:00:01\n",
      "     ------------------------------------- 807.4/807.4 kB 10.2 MB/s eta 0:00:00\n",
      "Collecting numba\n",
      "  Downloading numba-0.59.1-cp310-cp310-win_amd64.whl (2.7 MB)\n",
      "     ---------------------------------------- 0.0/2.7 MB ? eta -:--:--\n",
      "     -------------- ------------------------- 1.0/2.7 MB 20.9 MB/s eta 0:00:01\n",
      "     -------------------------------- ------- 2.2/2.7 MB 23.0 MB/s eta 0:00:01\n",
      "     ---------------------------------------- 2.7/2.7 MB 21.3 MB/s eta 0:00:00\n",
      "Collecting scikit-image\n",
      "  Downloading scikit_image-0.23.1-cp310-cp310-win_amd64.whl (12.7 MB)\n",
      "     ---------------------------------------- 0.0/12.7 MB ? eta -:--:--\n",
      "     ---- ----------------------------------- 1.5/12.7 MB 31.4 MB/s eta 0:00:01\n",
      "     ---------- ----------------------------- 3.4/12.7 MB 35.7 MB/s eta 0:00:01\n",
      "     ------------------ --------------------- 5.8/12.7 MB 40.9 MB/s eta 0:00:01\n",
      "     ---------------------------- ----------- 9.0/12.7 MB 47.9 MB/s eta 0:00:01\n",
      "     --------------------------------------  12.7/12.7 MB 59.5 MB/s eta 0:00:01\n",
      "     --------------------------------------- 12.7/12.7 MB 54.7 MB/s eta 0:00:00\n",
      "Collecting csbdeep>=0.7.4\n",
      "  Downloading csbdeep-0.7.4-py2.py3-none-any.whl (69 kB)\n",
      "     ---------------------------------------- 0.0/69.8 kB ? eta -:--:--\n",
      "     ---------------------------------------- 69.8/69.8 kB 4.0 MB/s eta 0:00:00\n",
      "Collecting imageio\n",
      "  Downloading imageio-2.34.0-py3-none-any.whl (313 kB)\n",
      "     ---------------------------------------- 0.0/313.4 kB ? eta -:--:--\n",
      "     ------------------------------------- 313.4/313.4 kB 18.9 MB/s eta 0:00:00\n",
      "Collecting matplotlib\n",
      "  Downloading matplotlib-3.8.4-cp310-cp310-win_amd64.whl (7.7 MB)\n",
      "     ---------------------------------------- 0.0/7.7 MB ? eta -:--:--\n",
      "     ------------------- -------------------- 3.8/7.7 MB 80.4 MB/s eta 0:00:01\n",
      "     ---------------------------------------  7.6/7.7 MB 97.9 MB/s eta 0:00:01\n",
      "     ---------------------------------------- 7.7/7.7 MB 69.5 MB/s eta 0:00:00\n",
      "Collecting tifffile\n",
      "  Downloading tifffile-2024.4.18-py3-none-any.whl (224 kB)\n",
      "     ---------------------------------------- 0.0/225.0 kB ? eta -:--:--\n",
      "     ---------------------------------------- 225.0/225.0 kB ? eta 0:00:00\n",
      "Requirement already satisfied: packaging in c:\\users\\zsombi\\appdata\\local\\packages\\pythonsoftwarefoundation.python.3.10_qbz5n2kfra8p0\\localcache\\local-packages\\python310\\site-packages (from csbdeep>=0.7.4->stardist) (24.0)\n",
      "Collecting tqdm\n",
      "  Downloading tqdm-4.66.2-py3-none-any.whl (78 kB)\n",
      "     ---------------------------------------- 0.0/78.3 kB ? eta -:--:--\n",
      "     ---------------------------------------- 78.3/78.3 kB ? eta 0:00:00\n",
      "Requirement already satisfied: numpy in c:\\users\\zsombi\\appdata\\local\\packages\\pythonsoftwarefoundation.python.3.10_qbz5n2kfra8p0\\localcache\\local-packages\\python310\\site-packages (from csbdeep>=0.7.4->stardist) (1.26.4)\n",
      "Collecting scipy\n",
      "  Downloading scipy-1.13.0-cp310-cp310-win_amd64.whl (46.2 MB)\n",
      "     ---------------------------------------- 0.0/46.2 MB ? eta -:--:--\n",
      "     --- ----------------------------------- 4.6/46.2 MB 148.3 MB/s eta 0:00:01\n",
      "     -------- ----------------------------- 10.2/46.2 MB 130.6 MB/s eta 0:00:01\n",
      "     ------------ ------------------------- 15.8/46.2 MB 108.8 MB/s eta 0:00:01\n",
      "     --------------- ---------------------- 18.9/46.2 MB 131.2 MB/s eta 0:00:01\n",
      "     --------------- ---------------------- 18.9/46.2 MB 131.2 MB/s eta 0:00:01\n",
      "     ------------------- ------------------- 23.0/46.2 MB 59.5 MB/s eta 0:00:01\n",
      "     ------------------------ -------------- 28.6/46.2 MB 59.5 MB/s eta 0:00:01\n",
      "     -------------------------- ----------- 31.8/46.2 MB 110.0 MB/s eta 0:00:01\n",
      "     ------------------------------- ------ 38.6/46.2 MB 108.8 MB/s eta 0:00:01\n",
      "     ------------------------------------ - 44.2/46.2 MB 131.2 MB/s eta 0:00:01\n",
      "     -------------------------------------  46.2/46.2 MB 110.0 MB/s eta 0:00:01\n",
      "     -------------------------------------  46.2/46.2 MB 110.0 MB/s eta 0:00:01\n",
      "     --------------------------------------- 46.2/46.2 MB 54.7 MB/s eta 0:00:00\n",
      "Requirement already satisfied: six in c:\\users\\zsombi\\appdata\\local\\packages\\pythonsoftwarefoundation.python.3.10_qbz5n2kfra8p0\\localcache\\local-packages\\python310\\site-packages (from csbdeep>=0.7.4->stardist) (1.16.0)\n",
      "Collecting pillow>=8.3.2\n",
      "  Downloading pillow-10.3.0-cp310-cp310-win_amd64.whl (2.5 MB)\n",
      "     ---------------------------------------- 0.0/2.5 MB ? eta -:--:--\n",
      "     ---------------------------------------- 2.5/2.5 MB 81.3 MB/s eta 0:00:00\n",
      "Collecting llvmlite<0.43,>=0.42.0dev0\n",
      "  Downloading llvmlite-0.42.0-cp310-cp310-win_amd64.whl (28.1 MB)\n",
      "     ---------------------------------------- 0.0/28.1 MB ? eta -:--:--\n",
      "     -------- ------------------------------ 5.8/28.1 MB 123.5 MB/s eta 0:00:01\n",
      "     --------------- ---------------------- 11.4/28.1 MB 108.8 MB/s eta 0:00:01\n",
      "     ---------------------- --------------- 17.0/28.1 MB 108.8 MB/s eta 0:00:01\n",
      "     ------------------------------ ------- 22.6/28.1 MB 108.8 MB/s eta 0:00:01\n",
      "     -------------------------------------  27.9/28.1 MB 108.8 MB/s eta 0:00:01\n",
      "     -------------------------------------  28.1/28.1 MB 108.8 MB/s eta 0:00:01\n",
      "     --------------------------------------- 28.1/28.1 MB 65.5 MB/s eta 0:00:00\n",
      "Collecting lazy-loader>=0.4\n",
      "  Downloading lazy_loader-0.4-py3-none-any.whl (12 kB)\n",
      "Collecting networkx>=2.8\n",
      "  Downloading networkx-3.3-py3-none-any.whl (1.7 MB)\n",
      "     ---------------------------------------- 0.0/1.7 MB ? eta -:--:--\n",
      "     ---------------------------------------- 1.7/1.7 MB 105.8 MB/s eta 0:00:00\n",
      "Collecting contourpy>=1.0.1\n",
      "  Downloading contourpy-1.2.1-cp310-cp310-win_amd64.whl (187 kB)\n",
      "     ---------------------------------------- 0.0/187.5 kB ? eta -:--:--\n",
      "     ---------------------------------------- 187.5/187.5 kB ? eta 0:00:00\n",
      "Collecting fonttools>=4.22.0\n",
      "  Downloading fonttools-4.51.0-cp310-cp310-win_amd64.whl (2.2 MB)\n",
      "     ---------------------------------------- 0.0/2.2 MB ? eta -:--:--\n",
      "     ---------------------------------------- 2.2/2.2 MB 145.1 MB/s eta 0:00:00\n",
      "Collecting cycler>=0.10\n",
      "  Downloading cycler-0.12.1-py3-none-any.whl (8.3 kB)\n",
      "Collecting kiwisolver>=1.3.1\n",
      "  Downloading kiwisolver-1.4.5-cp310-cp310-win_amd64.whl (56 kB)\n",
      "     ---------------------------------------- 0.0/56.1 kB ? eta -:--:--\n",
      "     ---------------------------------------- 56.1/56.1 kB ? eta 0:00:00\n",
      "Requirement already satisfied: python-dateutil>=2.7 in c:\\users\\zsombi\\appdata\\local\\packages\\pythonsoftwarefoundation.python.3.10_qbz5n2kfra8p0\\localcache\\local-packages\\python310\\site-packages (from matplotlib->csbdeep>=0.7.4->stardist) (2.9.0.post0)\n",
      "Collecting pyparsing>=2.3.1\n",
      "  Downloading pyparsing-3.1.2-py3-none-any.whl (103 kB)\n",
      "     ---------------------------------------- 0.0/103.2 kB ? eta -:--:--\n",
      "     ---------------------------------------- 103.2/103.2 kB ? eta 0:00:00\n",
      "Requirement already satisfied: colorama in c:\\users\\zsombi\\appdata\\local\\packages\\pythonsoftwarefoundation.python.3.10_qbz5n2kfra8p0\\localcache\\local-packages\\python310\\site-packages (from tqdm->csbdeep>=0.7.4->stardist) (0.4.6)\n",
      "Installing collected packages: tqdm, tifffile, scipy, pyparsing, pillow, networkx, llvmlite, lazy-loader, kiwisolver, fonttools, cycler, contourpy, numba, matplotlib, imageio, scikit-image, csbdeep, stardist\n",
      "Successfully installed contourpy-1.2.1 csbdeep-0.7.4 cycler-0.12.1 fonttools-4.51.0 imageio-2.34.0 kiwisolver-1.4.5 lazy-loader-0.4 llvmlite-0.42.0 matplotlib-3.8.4 networkx-3.3 numba-0.59.1 pillow-10.3.0 pyparsing-3.1.2 scikit-image-0.23.1 scipy-1.13.0 stardist-0.8.5 tifffile-2024.4.18 tqdm-4.66.2\n"
     ]
    }
   ],
   "source": [
    "%pip install stardist"
   ]
  },
  {
   "cell_type": "code",
   "execution_count": 1,
   "metadata": {},
   "outputs": [
    {
     "name": "stdout",
     "output_type": "stream",
     "text": [
      "Collecting imagecodecs\n",
      "  Downloading imagecodecs-2024.1.1-cp310-cp310-win_amd64.whl (25.4 MB)\n",
      "     ---------------------------------------- 0.0/25.4 MB ? eta -:--:--\n",
      "     ---------------------------------------- 0.2/25.4 MB 4.6 MB/s eta 0:00:06\n",
      "      --------------------------------------- 0.5/25.4 MB 6.0 MB/s eta 0:00:05\n",
      "     - -------------------------------------- 0.9/25.4 MB 6.8 MB/s eta 0:00:04\n",
      "     - -------------------------------------- 1.0/25.4 MB 7.4 MB/s eta 0:00:04\n",
      "     - -------------------------------------- 1.0/25.4 MB 7.4 MB/s eta 0:00:04\n",
      "     -- ------------------------------------- 1.4/25.4 MB 5.3 MB/s eta 0:00:05\n",
      "     --- ------------------------------------ 2.0/25.4 MB 6.4 MB/s eta 0:00:04\n",
      "     --- ------------------------------------ 2.1/25.4 MB 6.3 MB/s eta 0:00:04\n",
      "     --- ------------------------------------ 2.3/25.4 MB 5.5 MB/s eta 0:00:05\n",
      "     ---- ----------------------------------- 3.0/25.4 MB 6.5 MB/s eta 0:00:04\n",
      "     ---- ----------------------------------- 3.1/25.4 MB 6.7 MB/s eta 0:00:04\n",
      "     ----- ---------------------------------- 3.3/25.4 MB 5.9 MB/s eta 0:00:04\n",
      "     ------ --------------------------------- 4.1/25.4 MB 6.9 MB/s eta 0:00:04\n",
      "     ------ --------------------------------- 4.2/25.4 MB 6.9 MB/s eta 0:00:04\n",
      "     ------- -------------------------------- 4.7/25.4 MB 6.9 MB/s eta 0:00:03\n",
      "     -------- ------------------------------- 5.2/25.4 MB 7.3 MB/s eta 0:00:03\n",
      "     -------- ------------------------------- 5.2/25.4 MB 7.3 MB/s eta 0:00:03\n",
      "     --------- ------------------------------ 6.3/25.4 MB 7.6 MB/s eta 0:00:03\n",
      "     --------- ------------------------------ 6.3/25.4 MB 7.6 MB/s eta 0:00:03\n",
      "     ----------- ---------------------------- 7.0/25.4 MB 7.5 MB/s eta 0:00:03\n",
      "     ----------- ---------------------------- 7.3/25.4 MB 7.7 MB/s eta 0:00:03\n",
      "     ----------- ---------------------------- 7.3/25.4 MB 7.7 MB/s eta 0:00:03\n",
      "     ----------- ---------------------------- 7.3/25.4 MB 7.7 MB/s eta 0:00:03\n",
      "     ----------- ---------------------------- 7.3/25.4 MB 7.7 MB/s eta 0:00:03\n",
      "     ------------ --------------------------- 7.8/25.4 MB 6.6 MB/s eta 0:00:03\n",
      "     ------------- -------------------------- 8.4/25.4 MB 7.1 MB/s eta 0:00:03\n",
      "     ------------- -------------------------- 8.4/25.4 MB 7.1 MB/s eta 0:00:03\n",
      "     ------------- -------------------------- 8.8/25.4 MB 6.7 MB/s eta 0:00:03\n",
      "     -------------- ------------------------- 9.4/25.4 MB 7.0 MB/s eta 0:00:03\n",
      "     -------------- ------------------------- 9.4/25.4 MB 7.0 MB/s eta 0:00:03\n",
      "     ---------------- ----------------------- 10.5/25.4 MB 7.3 MB/s eta 0:00:03\n",
      "     ---------------- ----------------------- 10.5/25.4 MB 7.3 MB/s eta 0:00:03\n",
      "     ---------------- ----------------------- 10.5/25.4 MB 7.3 MB/s eta 0:00:03\n",
      "     ---------------- ----------------------- 10.5/25.4 MB 7.3 MB/s eta 0:00:03\n",
      "     ---------------- ----------------------- 10.5/25.4 MB 7.3 MB/s eta 0:00:03\n",
      "     ---------------- ----------------------- 10.5/25.4 MB 7.3 MB/s eta 0:00:03\n",
      "     ---------------- ----------------------- 10.5/25.4 MB 7.3 MB/s eta 0:00:03\n",
      "     ------------------ --------------------- 11.5/25.4 MB 6.6 MB/s eta 0:00:03\n",
      "     ------------------ --------------------- 11.5/25.4 MB 6.6 MB/s eta 0:00:03\n",
      "     ------------------ --------------------- 11.5/25.4 MB 6.6 MB/s eta 0:00:03\n",
      "     ------------------ --------------------- 11.5/25.4 MB 6.6 MB/s eta 0:00:03\n",
      "     ------------------ --------------------- 11.5/25.4 MB 6.6 MB/s eta 0:00:03\n",
      "     ------------------ --------------------- 11.5/25.4 MB 6.6 MB/s eta 0:00:03\n",
      "     ------------------ --------------------- 11.5/25.4 MB 6.6 MB/s eta 0:00:03\n",
      "     ------------------ --------------------- 11.5/25.4 MB 6.6 MB/s eta 0:00:03\n",
      "     ------------------ --------------------- 11.5/25.4 MB 6.6 MB/s eta 0:00:03\n",
      "     ------------------ --------------------- 11.5/25.4 MB 6.6 MB/s eta 0:00:03\n",
      "     ------------------ --------------------- 11.5/25.4 MB 6.6 MB/s eta 0:00:03\n",
      "     ------------------ --------------------- 11.5/25.4 MB 6.6 MB/s eta 0:00:03\n",
      "     ------------------ --------------------- 11.5/25.4 MB 6.6 MB/s eta 0:00:03\n",
      "     ------------------ --------------------- 11.7/25.4 MB 4.7 MB/s eta 0:00:03\n",
      "     ------------------- -------------------- 12.6/25.4 MB 5.1 MB/s eta 0:00:03\n",
      "     ------------------- -------------------- 12.6/25.4 MB 5.1 MB/s eta 0:00:03\n",
      "     -------------------- ------------------- 13.2/25.4 MB 4.9 MB/s eta 0:00:03\n",
      "     --------------------- ------------------ 13.6/25.4 MB 5.1 MB/s eta 0:00:03\n",
      "     --------------------- ------------------ 13.6/25.4 MB 5.1 MB/s eta 0:00:03\n",
      "     ----------------------- ---------------- 14.7/25.4 MB 5.2 MB/s eta 0:00:03\n",
      "     ----------------------- ---------------- 14.7/25.4 MB 5.2 MB/s eta 0:00:03\n",
      "     ------------------------ --------------- 15.7/25.4 MB 5.1 MB/s eta 0:00:02\n",
      "     ------------------------ --------------- 15.7/25.4 MB 5.1 MB/s eta 0:00:02\n",
      "     ------------------------ --------------- 15.7/25.4 MB 5.1 MB/s eta 0:00:02\n",
      "     -------------------------- ------------- 16.8/25.4 MB 5.1 MB/s eta 0:00:02\n",
      "     -------------------------- ------------- 16.8/25.4 MB 5.1 MB/s eta 0:00:02\n",
      "     -------------------------- ------------- 16.8/25.4 MB 5.1 MB/s eta 0:00:02\n",
      "     -------------------------- ------------- 16.8/25.4 MB 5.1 MB/s eta 0:00:02\n",
      "     -------------------------- ------------- 16.8/25.4 MB 5.1 MB/s eta 0:00:02\n",
      "     -------------------------- ------------- 16.8/25.4 MB 5.1 MB/s eta 0:00:02\n",
      "     -------------------------- ------------- 16.8/25.4 MB 5.1 MB/s eta 0:00:02\n",
      "     -------------------------- ------------- 16.8/25.4 MB 5.1 MB/s eta 0:00:02\n",
      "     -------------------------- ------------- 16.8/25.4 MB 5.1 MB/s eta 0:00:02\n",
      "     -------------------------- ------------- 16.8/25.4 MB 5.1 MB/s eta 0:00:02\n",
      "     -------------------------- ------------- 16.8/25.4 MB 5.1 MB/s eta 0:00:02\n",
      "     -------------------------- ------------- 16.8/25.4 MB 5.1 MB/s eta 0:00:02\n",
      "     -------------------------- ------------- 16.8/25.4 MB 5.1 MB/s eta 0:00:02\n",
      "     --------------------------- ------------ 17.5/25.4 MB 3.9 MB/s eta 0:00:03\n",
      "     ---------------------------- ----------- 17.8/25.4 MB 4.3 MB/s eta 0:00:02\n",
      "     ---------------------------- ----------- 17.8/25.4 MB 4.3 MB/s eta 0:00:02\n",
      "     ----------------------------- ---------- 18.9/25.4 MB 4.3 MB/s eta 0:00:02\n",
      "     ----------------------------- ---------- 18.9/25.4 MB 4.3 MB/s eta 0:00:02\n",
      "     ------------------------------- -------- 19.9/25.4 MB 4.4 MB/s eta 0:00:02\n",
      "     ------------------------------- -------- 19.9/25.4 MB 4.4 MB/s eta 0:00:02\n",
      "     ------------------------------- -------- 19.9/25.4 MB 4.4 MB/s eta 0:00:02\n",
      "     --------------------------------- ------ 21.0/25.4 MB 4.8 MB/s eta 0:00:01\n",
      "     --------------------------------- ------ 21.0/25.4 MB 4.8 MB/s eta 0:00:01\n",
      "     ---------------------------------- ----- 22.0/25.4 MB 6.4 MB/s eta 0:00:01\n",
      "     ---------------------------------- ----- 22.0/25.4 MB 6.4 MB/s eta 0:00:01\n",
      "     ----------------------------------- ---- 22.5/25.4 MB 6.1 MB/s eta 0:00:01\n",
      "     ------------------------------------ --- 23.1/25.4 MB 6.5 MB/s eta 0:00:01\n",
      "     ------------------------------------ --- 23.1/25.4 MB 6.5 MB/s eta 0:00:01\n",
      "     ------------------------------------- -- 24.1/25.4 MB 6.5 MB/s eta 0:00:01\n",
      "     ------------------------------------- -- 24.1/25.4 MB 6.5 MB/s eta 0:00:01\n",
      "     -------------------------------------- - 24.6/25.4 MB 6.1 MB/s eta 0:00:01\n",
      "     ---------------------------------------  25.4/25.4 MB 6.4 MB/s eta 0:00:01\n",
      "     ---------------------------------------- 25.4/25.4 MB 6.2 MB/s eta 0:00:00\n",
      "Collecting numpy\n",
      "  Downloading numpy-1.26.4-cp310-cp310-win_amd64.whl (15.8 MB)\n",
      "     ---------------------------------------- 0.0/15.8 MB ? eta -:--:--\n",
      "     -------- ------------------------------ 3.3/15.8 MB 105.7 MB/s eta 0:00:01\n",
      "     ------------------ --------------------- 7.4/15.8 MB 94.4 MB/s eta 0:00:01\n",
      "     ------------------------------ -------- 12.2/15.8 MB 93.9 MB/s eta 0:00:01\n",
      "     -------------------------------------  15.8/15.8 MB 110.0 MB/s eta 0:00:01\n",
      "     --------------------------------------- 15.8/15.8 MB 73.1 MB/s eta 0:00:00\n",
      "Installing collected packages: numpy, imagecodecs\n",
      "Successfully installed imagecodecs-2024.1.1 numpy-1.26.4\n",
      "Note: you may need to restart the kernel to use updated packages.\n"
     ]
    },
    {
     "name": "stderr",
     "output_type": "stream",
     "text": [
      "\n",
      "[notice] A new release of pip is available: 23.0.1 -> 24.0\n",
      "[notice] To update, run: C:\\Users\\Zsombi\\AppData\\Local\\Microsoft\\WindowsApps\\PythonSoftwareFoundation.Python.3.10_qbz5n2kfra8p0\\python.exe -m pip install --upgrade pip\n"
     ]
    }
   ],
   "source": [
    "%pip install imagecodecs"
   ]
  },
  {
   "cell_type": "code",
   "execution_count": 5,
   "metadata": {},
   "outputs": [
    {
     "name": "stdout",
     "output_type": "stream",
     "text": [
      "Requirement already satisfied: numpy in c:\\users\\zsombi\\appdata\\local\\packages\\pythonsoftwarefoundation.python.3.10_qbz5n2kfra8p0\\localcache\\local-packages\\python310\\site-packages (1.26.4)\n",
      "Note: you may need to restart the kernel to use updated packages.\n"
     ]
    },
    {
     "name": "stderr",
     "output_type": "stream",
     "text": [
      "\n",
      "[notice] A new release of pip is available: 23.0.1 -> 24.0\n",
      "[notice] To update, run: C:\\Users\\Zsombi\\AppData\\Local\\Microsoft\\WindowsApps\\PythonSoftwareFoundation.Python.3.10_qbz5n2kfra8p0\\python.exe -m pip install --upgrade pip\n"
     ]
    },
    {
     "name": "stdout",
     "output_type": "stream",
     "text": [
      "Requirement already satisfied: matplotlib in c:\\users\\zsombi\\appdata\\local\\packages\\pythonsoftwarefoundation.python.3.10_qbz5n2kfra8p0\\localcache\\local-packages\\python310\\site-packages (3.8.4)\n",
      "Requirement already satisfied: pillow>=8 in c:\\users\\zsombi\\appdata\\local\\packages\\pythonsoftwarefoundation.python.3.10_qbz5n2kfra8p0\\localcache\\local-packages\\python310\\site-packages (from matplotlib) (10.3.0)\n",
      "Requirement already satisfied: packaging>=20.0 in c:\\users\\zsombi\\appdata\\local\\packages\\pythonsoftwarefoundation.python.3.10_qbz5n2kfra8p0\\localcache\\local-packages\\python310\\site-packages (from matplotlib) (24.0)\n",
      "Requirement already satisfied: numpy>=1.21 in c:\\users\\zsombi\\appdata\\local\\packages\\pythonsoftwarefoundation.python.3.10_qbz5n2kfra8p0\\localcache\\local-packages\\python310\\site-packages (from matplotlib) (1.26.4)\n",
      "Requirement already satisfied: pyparsing>=2.3.1 in c:\\users\\zsombi\\appdata\\local\\packages\\pythonsoftwarefoundation.python.3.10_qbz5n2kfra8p0\\localcache\\local-packages\\python310\\site-packages (from matplotlib) (3.1.2)\n",
      "Requirement already satisfied: contourpy>=1.0.1 in c:\\users\\zsombi\\appdata\\local\\packages\\pythonsoftwarefoundation.python.3.10_qbz5n2kfra8p0\\localcache\\local-packages\\python310\\site-packages (from matplotlib) (1.2.1)\n",
      "Requirement already satisfied: python-dateutil>=2.7 in c:\\users\\zsombi\\appdata\\local\\packages\\pythonsoftwarefoundation.python.3.10_qbz5n2kfra8p0\\localcache\\local-packages\\python310\\site-packages (from matplotlib) (2.9.0.post0)\n",
      "Requirement already satisfied: cycler>=0.10 in c:\\users\\zsombi\\appdata\\local\\packages\\pythonsoftwarefoundation.python.3.10_qbz5n2kfra8p0\\localcache\\local-packages\\python310\\site-packages (from matplotlib) (0.12.1)\n",
      "Requirement already satisfied: kiwisolver>=1.3.1 in c:\\users\\zsombi\\appdata\\local\\packages\\pythonsoftwarefoundation.python.3.10_qbz5n2kfra8p0\\localcache\\local-packages\\python310\\site-packages (from matplotlib) (1.4.5)\n",
      "Requirement already satisfied: fonttools>=4.22.0 in c:\\users\\zsombi\\appdata\\local\\packages\\pythonsoftwarefoundation.python.3.10_qbz5n2kfra8p0\\localcache\\local-packages\\python310\\site-packages (from matplotlib) (4.51.0)\n",
      "Requirement already satisfied: six>=1.5 in c:\\users\\zsombi\\appdata\\local\\packages\\pythonsoftwarefoundation.python.3.10_qbz5n2kfra8p0\\localcache\\local-packages\\python310\\site-packages (from python-dateutil>=2.7->matplotlib) (1.16.0)\n",
      "Note: you may need to restart the kernel to use updated packages.\n"
     ]
    },
    {
     "name": "stderr",
     "output_type": "stream",
     "text": [
      "\n",
      "[notice] A new release of pip is available: 23.0.1 -> 24.0\n",
      "[notice] To update, run: C:\\Users\\Zsombi\\AppData\\Local\\Microsoft\\WindowsApps\\PythonSoftwareFoundation.Python.3.10_qbz5n2kfra8p0\\python.exe -m pip install --upgrade pip\n"
     ]
    },
    {
     "name": "stdout",
     "output_type": "stream",
     "text": [
      "Requirement already satisfied: csbdeep in c:\\users\\zsombi\\appdata\\local\\packages\\pythonsoftwarefoundation.python.3.10_qbz5n2kfra8p0\\localcache\\local-packages\\python310\\site-packages (0.7.4)\n",
      "Requirement already satisfied: six in c:\\users\\zsombi\\appdata\\local\\packages\\pythonsoftwarefoundation.python.3.10_qbz5n2kfra8p0\\localcache\\local-packages\\python310\\site-packages (from csbdeep) (1.16.0)\n",
      "Requirement already satisfied: packaging in c:\\users\\zsombi\\appdata\\local\\packages\\pythonsoftwarefoundation.python.3.10_qbz5n2kfra8p0\\localcache\\local-packages\\python310\\site-packages (from csbdeep) (24.0)\n",
      "Requirement already satisfied: scipy in c:\\users\\zsombi\\appdata\\local\\packages\\pythonsoftwarefoundation.python.3.10_qbz5n2kfra8p0\\localcache\\local-packages\\python310\\site-packages (from csbdeep) (1.13.0)\n",
      "Requirement already satisfied: tifffile in c:\\users\\zsombi\\appdata\\local\\packages\\pythonsoftwarefoundation.python.3.10_qbz5n2kfra8p0\\localcache\\local-packages\\python310\\site-packages (from csbdeep) (2024.4.18)\n",
      "Requirement already satisfied: matplotlib in c:\\users\\zsombi\\appdata\\local\\packages\\pythonsoftwarefoundation.python.3.10_qbz5n2kfra8p0\\localcache\\local-packages\\python310\\site-packages (from csbdeep) (3.8.4)\n",
      "Requirement already satisfied: numpy in c:\\users\\zsombi\\appdata\\local\\packages\\pythonsoftwarefoundation.python.3.10_qbz5n2kfra8p0\\localcache\\local-packages\\python310\\site-packages (from csbdeep) (1.26.4)\n",
      "Requirement already satisfied: tqdm in c:\\users\\zsombi\\appdata\\local\\packages\\pythonsoftwarefoundation.python.3.10_qbz5n2kfra8p0\\localcache\\local-packages\\python310\\site-packages (from csbdeep) (4.66.2)\n",
      "Requirement already satisfied: pyparsing>=2.3.1 in c:\\users\\zsombi\\appdata\\local\\packages\\pythonsoftwarefoundation.python.3.10_qbz5n2kfra8p0\\localcache\\local-packages\\python310\\site-packages (from matplotlib->csbdeep) (3.1.2)\n",
      "Requirement already satisfied: contourpy>=1.0.1 in c:\\users\\zsombi\\appdata\\local\\packages\\pythonsoftwarefoundation.python.3.10_qbz5n2kfra8p0\\localcache\\local-packages\\python310\\site-packages (from matplotlib->csbdeep) (1.2.1)\n",
      "Requirement already satisfied: python-dateutil>=2.7 in c:\\users\\zsombi\\appdata\\local\\packages\\pythonsoftwarefoundation.python.3.10_qbz5n2kfra8p0\\localcache\\local-packages\\python310\\site-packages (from matplotlib->csbdeep) (2.9.0.post0)\n",
      "Requirement already satisfied: kiwisolver>=1.3.1 in c:\\users\\zsombi\\appdata\\local\\packages\\pythonsoftwarefoundation.python.3.10_qbz5n2kfra8p0\\localcache\\local-packages\\python310\\site-packages (from matplotlib->csbdeep) (1.4.5)\n",
      "Requirement already satisfied: cycler>=0.10 in c:\\users\\zsombi\\appdata\\local\\packages\\pythonsoftwarefoundation.python.3.10_qbz5n2kfra8p0\\localcache\\local-packages\\python310\\site-packages (from matplotlib->csbdeep) (0.12.1)\n",
      "Requirement already satisfied: fonttools>=4.22.0 in c:\\users\\zsombi\\appdata\\local\\packages\\pythonsoftwarefoundation.python.3.10_qbz5n2kfra8p0\\localcache\\local-packages\\python310\\site-packages (from matplotlib->csbdeep) (4.51.0)\n",
      "Requirement already satisfied: pillow>=8 in c:\\users\\zsombi\\appdata\\local\\packages\\pythonsoftwarefoundation.python.3.10_qbz5n2kfra8p0\\localcache\\local-packages\\python310\\site-packages (from matplotlib->csbdeep) (10.3.0)\n",
      "Requirement already satisfied: colorama in c:\\users\\zsombi\\appdata\\local\\packages\\pythonsoftwarefoundation.python.3.10_qbz5n2kfra8p0\\localcache\\local-packages\\python310\\site-packages (from tqdm->csbdeep) (0.4.6)\n",
      "Note: you may need to restart the kernel to use updated packages.\n"
     ]
    },
    {
     "name": "stderr",
     "output_type": "stream",
     "text": [
      "\n",
      "[notice] A new release of pip is available: 23.0.1 -> 24.0\n",
      "[notice] To update, run: C:\\Users\\Zsombi\\AppData\\Local\\Microsoft\\WindowsApps\\PythonSoftwareFoundation.Python.3.10_qbz5n2kfra8p0\\python.exe -m pip install --upgrade pip\n"
     ]
    }
   ],
   "source": [
    "%pip install numpy\n",
    "%pip install matplotlib\n",
    "%pip install csbdeep"
   ]
  },
  {
   "cell_type": "code",
   "execution_count": 6,
   "metadata": {},
   "outputs": [
    {
     "ename": "ModuleNotFoundError",
     "evalue": "No module named 'cbsdeep'",
     "output_type": "error",
     "traceback": [
      "\u001b[1;31m---------------------------------------------------------------------------\u001b[0m",
      "\u001b[1;31mModuleNotFoundError\u001b[0m                       Traceback (most recent call last)",
      "Cell \u001b[1;32mIn[6], line 7\u001b[0m\n\u001b[0;32m      4\u001b[0m get_ipython()\u001b[38;5;241m.\u001b[39mrun_line_magic(\u001b[38;5;124m'\u001b[39m\u001b[38;5;124mconfig\u001b[39m\u001b[38;5;124m'\u001b[39m, \u001b[38;5;124m'\u001b[39m\u001b[38;5;124mInlineBackend.figure_format = \u001b[39m\u001b[38;5;124m\"\u001b[39m\u001b[38;5;124mretina\u001b[39m\u001b[38;5;124m\"\u001b[39m\u001b[38;5;124m'\u001b[39m)\n\u001b[0;32m      6\u001b[0m \u001b[38;5;28;01mfrom\u001b[39;00m \u001b[38;5;21;01mtifffile\u001b[39;00m \u001b[38;5;28;01mimport\u001b[39;00m imread, imsave\n\u001b[1;32m----> 7\u001b[0m \u001b[38;5;28;01mfrom\u001b[39;00m \u001b[38;5;21;01mcbsdeep\u001b[39;00m\u001b[38;5;21;01m.\u001b[39;00m\u001b[38;5;21;01mutils\u001b[39;00m \u001b[38;5;28;01mimport\u001b[39;00m Path, normalize\n\u001b[0;32m      8\u001b[0m \u001b[38;5;28;01mfrom\u001b[39;00m \u001b[38;5;21;01mcbsdeep\u001b[39;00m\u001b[38;5;21;01m.\u001b[39;00m\u001b[38;5;21;01mutils\u001b[39;00m\u001b[38;5;21;01m.\u001b[39;00m\u001b[38;5;21;01mtf\u001b[39;00m \u001b[38;5;28;01mimport\u001b[39;00m keras_import\n\u001b[0;32m      9\u001b[0m keras \u001b[38;5;241m=\u001b[39m keras_import()\n",
      "\u001b[1;31mModuleNotFoundError\u001b[0m: No module named 'cbsdeep'"
     ]
    }
   ],
   "source": [
    "import numpy as np\n",
    "import matplotlib.pyplot as plt\n",
    "%matplotlib inline\n",
    "%config InlineBackend.figure_format = \"retina\"\n",
    "\n",
    "from tifffile import imread, imsave\n",
    "from csbdeep.utils import Path, normalize\n",
    "from csbdeep.utils.tf import keras_import\n",
    "keras = keras_import()\n",
    "\n",
    "from stardist import export_imagej_rois, random_label_cmap\n",
    "from stardist.models import StarDist2D\n"
   ]
  },
  {
   "cell_type": "code",
   "execution_count": null,
   "metadata": {},
   "outputs": [],
   "source": []
  }
 ],
 "metadata": {
  "kernelspec": {
   "display_name": "Python 3",
   "language": "python",
   "name": "python3"
  },
  "language_info": {
   "codemirror_mode": {
    "name": "ipython",
    "version": 3
   },
   "file_extension": ".py",
   "mimetype": "text/x-python",
   "name": "python",
   "nbconvert_exporter": "python",
   "pygments_lexer": "ipython3",
   "version": "3.10.11"
  }
 },
 "nbformat": 4,
 "nbformat_minor": 2
}
